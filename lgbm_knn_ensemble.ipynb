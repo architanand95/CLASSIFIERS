{
 "cells": [
  {
   "cell_type": "code",
   "execution_count": null,
   "metadata": {},
   "outputs": [],
   "source": [
    "import pandas as pd\n",
    "from sklearn.model_selection import train_test_split\n",
    "from sklearn.preprocessing import StandardScaler\n",
    "from lightgbm import LGBMClassifier\n",
    "from sklearn.neighbors import KNeighborsClassifier\n",
    "from sklearn.metrics import accuracy_score\n",
    "import numpy as np\n",
    "\n",
    "# Read the data\n",
    "train_data = pd.read_csv(\"train.csv\")\n",
    "test_data = pd.read_csv(\"test.csv\")\n",
    "\n",
    "# Define genre label mapping\n",
    "genre_label_mapping = {\n",
    "    'blues': 0,\n",
    "    'classical': 1,\n",
    "    'country': 2,\n",
    "    'disco': 3,\n",
    "    'hiphop': 4,\n",
    "    'jazz': 5,\n",
    "    'metal': 6,\n",
    "    'pop': 7,\n",
    "    'reggae': 8,\n",
    "    'rock': 9\n",
    "}\n",
    "\n",
    "# Preprocess the data\n",
    "train_data['label'] = train_data['label'].map(genre_label_mapping)\n",
    "X = train_data.drop([\"filename\", \"label\"], axis=1)\n",
    "y = train_data[\"label\"]\n",
    "X_train, X_val, y_train, y_val = train_test_split(X, y, test_size=0.2, random_state=42)\n",
    "\n",
    "scaler = StandardScaler()\n",
    "X_train = scaler.fit_transform(X_train)\n",
    "X_val = scaler.transform(X_val)\n",
    "X_test = scaler.transform(test_data.drop([\"id\"], axis=1))\n",
    "\n",
    "# Train LightGBM Classifier\n",
    "lgbm_classifier = LGBMClassifier(n_estimators=100, random_state=42)\n",
    "lgbm_classifier.fit(X_train, y_train)\n",
    "y_pred_lgbm = lgbm_classifier.predict_proba(X_val)\n",
    "\n",
    "# Train K-Nearest Neighbors Classifier\n",
    "knn_classifier = KNeighborsClassifier(n_neighbors=5)\n",
    "knn_classifier.fit(X_train, y_train)\n",
    "y_pred_knn = knn_classifier.predict_proba(X_val)\n",
    "\n",
    "# Combine predictions using weighted average\n",
    "weighted_average = 0.7 * y_pred_lgbm + 0.3 * y_pred_knn\n",
    "y_pred_combined = np.argmax(weighted_average, axis=1)\n",
    "\n",
    "# Calculate accuracy on the validation set\n",
    "accuracy = accuracy_score(y_val, y_pred_combined)\n",
    "print(\"Ensemble Model Validation Set Accuracy:\", accuracy)\n",
    "\n",
    "# Use the ensemble model to make predictions on the test set\n",
    "test_pred_lgbm = lgbm_classifier.predict_proba(X_test)\n",
    "test_pred_knn = knn_classifier.predict_proba(X_test)\n",
    "test_weighted_average = 0.7 * test_pred_lgbm + 0.3 * test_pred_knn\n",
    "test_pred_combined = np.argmax(test_weighted_average, axis=1)\n",
    "\n",
    "# Prepare submission file\n",
    "submission_df = pd.DataFrame({\"id\": test_data[\"id\"], \"label\": test_pred_combined})\n",
    "submission_df.to_csv(\"lgbm_knn_combined_submission.csv\", index=False)\n",
    "\n",
    "# 92"
   ]
  }
 ],
 "metadata": {
  "kernelspec": {
   "display_name": "Python 3.10.8 64-bit",
   "language": "python",
   "name": "python3"
  },
  "language_info": {
   "name": "python",
   "version": "3.10.8"
  },
  "orig_nbformat": 4,
  "vscode": {
   "interpreter": {
    "hash": "26de051ba29f2982a8de78e945f0abaf191376122a1563185a90213a26c5da77"
   }
  }
 },
 "nbformat": 4,
 "nbformat_minor": 2
}
