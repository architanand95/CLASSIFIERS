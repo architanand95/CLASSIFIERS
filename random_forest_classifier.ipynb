{
 "cells": [
  {
   "cell_type": "code",
   "execution_count": null,
   "metadata": {},
   "outputs": [],
   "source": [
    "import pandas as pd\n",
    "from sklearn.model_selection import train_test_split\n",
    "from sklearn.preprocessing import StandardScaler\n",
    "from sklearn.ensemble import RandomForestClassifier\n",
    "from sklearn.feature_selection import SelectFromModel\n",
    "from sklearn.metrics import accuracy_score\n",
    "\n",
    "# Define a dictionary to map genre names to numerical labels\n",
    "genre_label_mapping = {\n",
    "    'blues': 0,\n",
    "    'classical': 1,\n",
    "    'country': 2,\n",
    "    'disco': 3,\n",
    "    'hiphop': 4,\n",
    "    'jazz': 5,\n",
    "    'metal': 6,\n",
    "    'pop': 7,\n",
    "    'reggae': 8,\n",
    "    'rock': 9\n",
    "}\n",
    "\n",
    "# Step 1: Read the train.csv and test.csv files\n",
    "train_data = pd.read_csv(\"train.csv\")\n",
    "test_data = pd.read_csv(\"test.csv\")\n",
    "\n",
    "# Replace genre names in the \"label\" column of the train_data DataFrame with numerical labels\n",
    "train_data['label'] = train_data['label'].map(genre_label_mapping)\n",
    "\n",
    "# Extract features and labels from the train_data DataFrame\n",
    "X = train_data.drop([\"filename\", \"label\"], axis=1)\n",
    "y = train_data[\"label\"]\n",
    "\n",
    "# Split the training data into training and validation sets\n",
    "X_train, X_val, y_train, y_val = train_test_split(X, y, test_size=0.2, random_state=42)\n",
    "\n",
    "# Standardize the features (mean = 0, standard deviation = 1)\n",
    "scaler = StandardScaler()\n",
    "X_train = scaler.fit_transform(X_train)\n",
    "X_val = scaler.transform(X_val)\n",
    "\n",
    "# Train a Random Forest model to identify top features\n",
    "rf = RandomForestClassifier(n_estimators=100, random_state=42)\n",
    "rf.fit(X_train, y_train)\n",
    "\n",
    "# Select top 50 important features\n",
    "selector = SelectFromModel(rf, threshold=-1, max_features=50)\n",
    "selector.fit(X_train, y_train)\n",
    "X_train_top = selector.transform(X_train)\n",
    "X_val_top = selector.transform(X_val)\n",
    "\n",
    "# Train the Random Forest Classifier using top features\n",
    "rf_top = RandomForestClassifier(n_estimators=100, random_state=42)\n",
    "rf_top.fit(X_train_top, y_train)\n",
    "\n",
    "# Predict using top features and evaluate\n",
    "y_pred = rf_top.predict(X_val_top)\n",
    "accuracy = accuracy_score(y_val, y_pred)\n",
    "print(\"Validation Set Accuracy (using top features):\", accuracy)\n",
    "\n",
    "# Apply the trained model to the test data using top features\n",
    "X_test_top = selector.transform(test_data.drop([\"id\"], axis=1))\n",
    "test_predictions = rf_top.predict(X_test_top)\n",
    "\n",
    "\n",
    "# accuracy: 86 percent "
   ]
  }
 ],
 "metadata": {
  "kernelspec": {
   "display_name": "Python 3.10.8 64-bit",
   "language": "python",
   "name": "python3"
  },
  "language_info": {
   "name": "python",
   "version": "3.10.8"
  },
  "orig_nbformat": 4,
  "vscode": {
   "interpreter": {
    "hash": "26de051ba29f2982a8de78e945f0abaf191376122a1563185a90213a26c5da77"
   }
  }
 },
 "nbformat": 4,
 "nbformat_minor": 2
}
